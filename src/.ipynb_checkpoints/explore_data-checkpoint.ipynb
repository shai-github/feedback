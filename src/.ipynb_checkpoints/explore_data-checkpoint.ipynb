{
 "cells": [
  {
   "cell_type": "code",
   "execution_count": 1,
   "id": "c6c9a8a2",
   "metadata": {
    "_cell_guid": "b1076dfc-b9ad-4769-8c92-a6c4dae69d19",
    "_uuid": "8f2839f25d086af736a60e9eeb907d3b93b6e0e5",
    "execution": {
     "iopub.execute_input": "2022-02-26T00:30:05.168422Z",
     "iopub.status.busy": "2022-02-26T00:30:05.166582Z",
     "iopub.status.idle": "2022-02-26T00:30:07.085371Z",
     "shell.execute_reply": "2022-02-26T00:30:07.084593Z",
     "shell.execute_reply.started": "2022-02-25T23:26:18.805169Z"
    },
    "papermill": {
     "duration": 1.934095,
     "end_time": "2022-02-26T00:30:07.085683",
     "exception": false,
     "start_time": "2022-02-26T00:30:05.151588",
     "status": "completed"
    },
    "tags": []
   },
   "outputs": [],
   "source": [
    "import numpy as np\n",
    "import pandas as pd\n",
    "\n",
    "train_sum = pd.read_csv('/kaggle/input/feedback-prize-2021/train.csv')"
   ]
  },
  {
   "cell_type": "code",
   "execution_count": 2,
   "id": "537fc9a4",
   "metadata": {
    "execution": {
     "iopub.execute_input": "2022-02-26T00:30:07.114188Z",
     "iopub.status.busy": "2022-02-26T00:30:07.113427Z",
     "iopub.status.idle": "2022-02-26T00:30:07.117521Z",
     "shell.execute_reply": "2022-02-26T00:30:07.116883Z",
     "shell.execute_reply.started": "2022-02-25T23:26:20.579183Z"
    },
    "papermill": {
     "duration": 0.021115,
     "end_time": "2022-02-26T00:30:07.117669",
     "exception": false,
     "start_time": "2022-02-26T00:30:07.096554",
     "status": "completed"
    },
    "tags": []
   },
   "outputs": [
    {
     "data": {
      "text/plain": [
       "Index(['id', 'discourse_id', 'discourse_start', 'discourse_end',\n",
       "       'discourse_text', 'discourse_type', 'discourse_type_num',\n",
       "       'predictionstring'],\n",
       "      dtype='object')"
      ]
     },
     "execution_count": 2,
     "metadata": {},
     "output_type": "execute_result"
    }
   ],
   "source": [
    "train_sum.columns"
   ]
  },
  {
   "cell_type": "code",
   "execution_count": 3,
   "id": "5e69a190",
   "metadata": {
    "execution": {
     "iopub.execute_input": "2022-02-26T00:30:07.156993Z",
     "iopub.status.busy": "2022-02-26T00:30:07.156288Z",
     "iopub.status.idle": "2022-02-26T00:30:07.167892Z",
     "shell.execute_reply": "2022-02-26T00:30:07.167343Z",
     "shell.execute_reply.started": "2022-02-25T23:26:20.590187Z"
    },
    "papermill": {
     "duration": 0.04103,
     "end_time": "2022-02-26T00:30:07.168130",
     "exception": false,
     "start_time": "2022-02-26T00:30:07.127100",
     "status": "completed"
    },
    "tags": []
   },
   "outputs": [
    {
     "data": {
      "text/plain": [
       "15594"
      ]
     },
     "execution_count": 3,
     "metadata": {},
     "output_type": "execute_result"
    }
   ],
   "source": [
    "train_sum.id.nunique()"
   ]
  },
  {
   "cell_type": "code",
   "execution_count": 4,
   "id": "8cd3739e",
   "metadata": {
    "execution": {
     "iopub.execute_input": "2022-02-26T00:30:07.190808Z",
     "iopub.status.busy": "2022-02-26T00:30:07.189800Z",
     "iopub.status.idle": "2022-02-26T00:30:07.454319Z",
     "shell.execute_reply": "2022-02-26T00:30:07.454827Z",
     "shell.execute_reply.started": "2022-02-25T23:26:20.627606Z"
    },
    "papermill": {
     "duration": 0.277638,
     "end_time": "2022-02-26T00:30:07.455030",
     "exception": false,
     "start_time": "2022-02-26T00:30:07.177392",
     "status": "completed"
    },
    "tags": []
   },
   "outputs": [
    {
     "data": {
      "text/plain": [
       "Text(0.5, 1.0, 'Count of Discourse Elements by Type')"
      ]
     },
     "execution_count": 4,
     "metadata": {},
     "output_type": "execute_result"
    },
    {
     "data": {
      "image/png": "[encoded data removed]",
      "text/plain": [
       "<Figure size 432x288 with 1 Axes>"
      ]
     },
     "metadata": {
      "needs_background": "light"
     },
     "output_type": "display_data"
    }
   ],
   "source": [
    "plt1 = train_sum.groupby(['discourse_type']).size().plot.barh()\n",
    "plt1.set_xlabel('Count')\n",
    "plt1.set_ylabel('Discourse Type')\n",
    "plt1.set_title(\"Count of Discourse Elements by Type\")"
   ]
  },
  {
   "cell_type": "code",
   "execution_count": 5,
   "id": "3ed5ffc4",
   "metadata": {
    "execution": {
     "iopub.execute_input": "2022-02-26T00:30:07.489423Z",
     "iopub.status.busy": "2022-02-26T00:30:07.488712Z",
     "iopub.status.idle": "2022-02-26T00:30:07.514898Z",
     "shell.execute_reply": "2022-02-26T00:30:07.514212Z",
     "shell.execute_reply.started": "2022-02-25T23:26:20.882488Z"
    },
    "papermill": {
     "duration": 0.04971,
     "end_time": "2022-02-26T00:30:07.515061",
     "exception": false,
     "start_time": "2022-02-26T00:30:07.465351",
     "status": "completed"
    },
    "tags": []
   },
   "outputs": [
    {
     "data": {
      "text/plain": [
       "discourse_type\n",
       "Claim                   3.219700\n",
       "Concluding Statement    0.866038\n",
       "Counterclaim            0.373028\n",
       "Evidence                2.930743\n",
       "Lead                    0.596704\n",
       "Position                0.988778\n",
       "Rebuttal                0.278120\n",
       "dtype: float64"
      ]
     },
     "execution_count": 5,
     "metadata": {},
     "output_type": "execute_result"
    }
   ],
   "source": [
    "# Average num of discourse type per essay\n",
    "train_sum.groupby(['discourse_type']).size()/train_sum.id.nunique()"
   ]
  },
  {
   "cell_type": "code",
   "execution_count": 6,
   "id": "45b94c6e",
   "metadata": {
    "execution": {
     "iopub.execute_input": "2022-02-26T00:30:07.545727Z",
     "iopub.status.busy": "2022-02-26T00:30:07.545023Z",
     "iopub.status.idle": "2022-02-26T00:30:07.974113Z",
     "shell.execute_reply": "2022-02-26T00:30:07.973530Z",
     "shell.execute_reply.started": "2022-02-25T23:26:20.927099Z"
    },
    "papermill": {
     "duration": 0.448458,
     "end_time": "2022-02-26T00:30:07.974264",
     "exception": false,
     "start_time": "2022-02-26T00:30:07.525806",
     "status": "completed"
    },
    "tags": []
   },
   "outputs": [
    {
     "data": {
      "text/plain": [
       "Text(0.5, 1.0, 'Percentage of Essays with Discourse Type')"
      ]
     },
     "execution_count": 6,
     "metadata": {},
     "output_type": "execute_result"
    },
    {
     "data": {
      "image/png": "[encoded data removed]",
      "text/plain": [
       "<Figure size 432x288 with 1 Axes>"
      ]
     },
     "metadata": {
      "needs_background": "light"
     },
     "output_type": "display_data"
    }
   ],
   "source": [
    "dt_per_essay = train_sum.groupby(['id'])['discourse_type'].value_counts().reset_index(name='count')\n",
    "dt_per_essay['discourse_exist'] = 1\n",
    "plt2 = (((dt_per_essay.groupby(['discourse_type']).discourse_exist.sum())/(dt_per_essay.id.nunique()))*100).plot.barh()\n",
    "plt2.set_xlabel('Percentage')\n",
    "plt2.set_ylabel('Discourse Type')\n",
    "plt2.set_title(\"Percentage of Essays with Discourse Type\")"
   ]
  },
  {
   "cell_type": "code",
   "execution_count": 7,
   "id": "1ac01f51",
   "metadata": {
    "execution": {
     "iopub.execute_input": "2022-02-26T00:30:08.024636Z",
     "iopub.status.busy": "2022-02-26T00:30:08.023859Z",
     "iopub.status.idle": "2022-02-26T00:30:09.439733Z",
     "shell.execute_reply": "2022-02-26T00:30:09.440264Z",
     "shell.execute_reply.started": "2022-02-25T23:26:21.314893Z"
    },
    "papermill": {
     "duration": 1.454089,
     "end_time": "2022-02-26T00:30:09.440451",
     "exception": false,
     "start_time": "2022-02-26T00:30:07.986362",
     "status": "completed"
    },
    "tags": []
   },
   "outputs": [
    {
     "data": {
      "text/plain": [
       "Text(0.5, 1.0, 'Average Length of Discourse Type (# of Words)')"
      ]
     },
     "execution_count": 7,
     "metadata": {},
     "output_type": "execute_result"
    },
    {
     "data": {
      "image/png": "[encoded data removed]",
      "text/plain": [
       "<Figure size 432x288 with 1 Axes>"
      ]
     },
     "metadata": {
      "needs_background": "light"
     },
     "output_type": "display_data"
    }
   ],
   "source": [
    "train_sum['pred_split'] = train_sum['predictionstring'].str.split()\n",
    "train_sum['pred_len'] = train_sum['pred_split'].str.len()\n",
    "plt3 = train_sum.groupby(['discourse_type'])['pred_len'].mean().plot.barh()\n",
    "plt3.set_xlabel('Length')\n",
    "plt3.set_ylabel('Discourse Type')\n",
    "plt3.set_title(\"Average Length of Discourse Type (# of Words)\")"
   ]
  },
  {
   "cell_type": "code",
   "execution_count": 8,
   "id": "10d1f9a9",
   "metadata": {
    "execution": {
     "iopub.execute_input": "2022-02-26T00:30:09.470169Z",
     "iopub.status.busy": "2022-02-26T00:30:09.469482Z",
     "iopub.status.idle": "2022-02-26T00:30:09.803104Z",
     "shell.execute_reply": "2022-02-26T00:30:09.803579Z",
     "shell.execute_reply.started": "2022-02-25T23:26:22.728330Z"
    },
    "papermill": {
     "duration": 0.350116,
     "end_time": "2022-02-26T00:30:09.803752",
     "exception": false,
     "start_time": "2022-02-26T00:30:09.453636",
     "status": "completed"
    },
    "tags": []
   },
   "outputs": [
    {
     "data": {
      "text/plain": [
       "Text(0.5, 1.0, 'Average Start and End Position by Discourse Type')"
      ]
     },
     "execution_count": 8,
     "metadata": {},
     "output_type": "execute_result"
    },
    {
     "data": {
      "image/png": "[encoded data removed]",
      "text/plain": [
       "<Figure size 432x288 with 1 Axes>"
      ]
     },
     "metadata": {
      "needs_background": "light"
     },
     "output_type": "display_data"
    }
   ],
   "source": [
    "start_end = train_sum.groupby(['discourse_type'])[['discourse_end', 'discourse_start']].mean().reset_index().sort_values(by = 'discourse_start', ascending = False)\n",
    "plt4 = start_end.plot(x='discourse_type',\n",
    "        kind='barh',\n",
    "        stacked=False)\n",
    "plt4.set_xlabel('Character Position in Essay')\n",
    "plt4.set_ylabel('Discourse Type')\n",
    "plt4.set_title(\"Average Start and End Position by Discourse Type\")"
   ]
  },
  {
   "cell_type": "code",
   "execution_count": null,
   "id": "a18c1fd8",
   "metadata": {
    "papermill": {
     "duration": 0.013921,
     "end_time": "2022-02-26T00:30:09.832213",
     "exception": false,
     "start_time": "2022-02-26T00:30:09.818292",
     "status": "completed"
    },
    "tags": []
   },
   "outputs": [],
   "source": []
  }
 ],
 "metadata": {
  "kernelspec": {
   "display_name": "Python 3",
   "language": "python",
   "name": "python3"
  },
  "language_info": {
   "codemirror_mode": {
    "name": "ipython",
    "version": 3
   },
   "file_extension": ".py",
   "mimetype": "text/x-python",
   "name": "python",
   "nbconvert_exporter": "python",
   "pygments_lexer": "ipython3",
   "version": "3.8.5"
  },
  "papermill": {
   "default_parameters": {},
   "duration": 16.366737,
   "end_time": "2022-02-26T00:30:10.757920",
   "environment_variables": {},
   "exception": null,
   "input_path": "__notebook__.ipynb",
   "output_path": "__notebook__.ipynb",
   "parameters": {},
   "start_time": "2022-02-26T00:29:54.391183",
   "version": "2.3.3"
  }
 },
 "nbformat": 4,
 "nbformat_minor": 5
}
